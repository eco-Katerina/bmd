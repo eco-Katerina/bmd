{
 "cells": [
  {
   "cell_type": "markdown",
   "metadata": {},
   "source": [
    "Лабораторна робота №6\n",
    "\n",
    "Студентки гр.БС-83\n",
    "\n",
    "Павельчак Катерини\n",
    "\n",
    "Тема:Парний t-критерій Стьюдента"
   ]
  },
  {
   "cell_type": "code",
   "execution_count": 1,
   "metadata": {},
   "outputs": [],
   "source": [
    "from numpy.random import randint\n",
    "import matplotlib.pyplot as plt\n",
    "import scipy.stats as ss\n",
    "import seaborn as sns\n",
    "import pandas as pd\n",
    "import numpy as np\n",
    "import math"
   ]
  },
  {
   "cell_type": "markdown",
   "metadata": {},
   "source": [
    "Обрати реальні дані з kaggle або сгенерувати випадкові дані. Дані мають відповідати вимогам"
   ]
  },
  {
   "cell_type": "code",
   "execution_count": 2,
   "metadata": {},
   "outputs": [
    {
     "data": {
      "text/html": [
       "<div>\n",
       "<style scoped>\n",
       "    .dataframe tbody tr th:only-of-type {\n",
       "        vertical-align: middle;\n",
       "    }\n",
       "\n",
       "    .dataframe tbody tr th {\n",
       "        vertical-align: top;\n",
       "    }\n",
       "\n",
       "    .dataframe thead th {\n",
       "        text-align: right;\n",
       "    }\n",
       "</style>\n",
       "<table border=\"1\" class=\"dataframe\">\n",
       "  <thead>\n",
       "    <tr style=\"text-align: right;\">\n",
       "      <th></th>\n",
       "      <th>Оценка за тест</th>\n",
       "      <th>Оценка за пересдачу теста</th>\n",
       "    </tr>\n",
       "    <tr>\n",
       "      <th>№ вариант ученика</th>\n",
       "      <th></th>\n",
       "      <th></th>\n",
       "    </tr>\n",
       "  </thead>\n",
       "  <tbody>\n",
       "    <tr>\n",
       "      <td>1</td>\n",
       "      <td>17</td>\n",
       "      <td>13</td>\n",
       "    </tr>\n",
       "    <tr>\n",
       "      <td>2</td>\n",
       "      <td>19</td>\n",
       "      <td>10</td>\n",
       "    </tr>\n",
       "    <tr>\n",
       "      <td>3</td>\n",
       "      <td>6</td>\n",
       "      <td>15</td>\n",
       "    </tr>\n",
       "    <tr>\n",
       "      <td>4</td>\n",
       "      <td>7</td>\n",
       "      <td>9</td>\n",
       "    </tr>\n",
       "    <tr>\n",
       "      <td>5</td>\n",
       "      <td>19</td>\n",
       "      <td>17</td>\n",
       "    </tr>\n",
       "    <tr>\n",
       "      <td>6</td>\n",
       "      <td>13</td>\n",
       "      <td>7</td>\n",
       "    </tr>\n",
       "    <tr>\n",
       "      <td>7</td>\n",
       "      <td>11</td>\n",
       "      <td>7</td>\n",
       "    </tr>\n",
       "    <tr>\n",
       "      <td>8</td>\n",
       "      <td>13</td>\n",
       "      <td>2</td>\n",
       "    </tr>\n",
       "    <tr>\n",
       "      <td>9</td>\n",
       "      <td>16</td>\n",
       "      <td>19</td>\n",
       "    </tr>\n",
       "    <tr>\n",
       "      <td>10</td>\n",
       "      <td>19</td>\n",
       "      <td>9</td>\n",
       "    </tr>\n",
       "    <tr>\n",
       "      <td>11</td>\n",
       "      <td>7</td>\n",
       "      <td>10</td>\n",
       "    </tr>\n",
       "    <tr>\n",
       "      <td>12</td>\n",
       "      <td>2</td>\n",
       "      <td>18</td>\n",
       "    </tr>\n",
       "  </tbody>\n",
       "</table>\n",
       "</div>"
      ],
      "text/plain": [
       "                    Оценка за тест  Оценка за пересдачу теста\n",
       "№ вариант ученика                                            \n",
       "1                               17                         13\n",
       "2                               19                         10\n",
       "3                                6                         15\n",
       "4                                7                          9\n",
       "5                               19                         17\n",
       "6                               13                          7\n",
       "7                               11                          7\n",
       "8                               13                          2\n",
       "9                               16                         19\n",
       "10                              19                          9\n",
       "11                               7                         10\n",
       "12                               2                         18"
      ]
     },
     "execution_count": 2,
     "metadata": {},
     "output_type": "execute_result"
    }
   ],
   "source": [
    "column1 = randint(2, 20, 12)\n",
    "column2 = randint(2, 20, 12)\n",
    "table = pd.DataFrame({'Оценка за тест': column1,\n",
    "                      'Оценка за пересдачу теста': column2},index=np.arange(1, len(column1) + 1))\n",
    "table.index.name = '№ вариант ученика '\n",
    "table"
   ]
  },
  {
   "cell_type": "markdown",
   "metadata": {},
   "source": [
    "Побудувати графік, що відображає розкид даних в групах"
   ]
  },
  {
   "cell_type": "code",
   "execution_count": 3,
   "metadata": {},
   "outputs": [
    {
     "data": {
      "text/plain": [
       "[]"
      ]
     },
     "execution_count": 3,
     "metadata": {},
     "output_type": "execute_result"
    },
    {
     "data": {
      "image/png": "[encoded data removed]",
      "text/plain": [
       "<Figure size 432x288 with 1 Axes>"
      ]
     },
     "metadata": {
      "needs_background": "light"
     },
     "output_type": "display_data"
    }
   ],
   "source": [
    "sns.boxplot(data=table, orient='h',palette='coolwarm').set()"
   ]
  },
  {
   "cell_type": "markdown",
   "metadata": {},
   "source": [
    "Написати функцію для оцінки зв'язку між групами за коефіцієнтом кореляції Пірсона. Функція має повертати значення коефіцієнту кореляції, значення ступеня свободи та результат оцінки значимості зв'зку (significant або not significant)"
   ]
  },
  {
   "cell_type": "code",
   "execution_count": 4,
   "metadata": {},
   "outputs": [],
   "source": [
    "def Pirson(column1, column2):\n",
    "    n=len(column1)\n",
    "    \n",
    "    sum_product = 0\n",
    "    for i in range(len(column1)):\n",
    "        sum_product += column1[i] * column2[i] \n",
    "    \n",
    "    sum_1=sum(column1)\n",
    "    sum_2=sum(column2)\n",
    "    \n",
    "    sum_sum_1 = sum_1**2\n",
    "    sum_sum_2 = sum_2**2\n",
    "    \n",
    "    sum_sq_1 = 0\n",
    "    sum_sq_2 = 0\n",
    "    for i in range(len(column1)):\n",
    "        sum_sq_1 += column1[i] **2\n",
    "        sum_sq_2 += column2[i] **2\n",
    "        \n",
    "    r=((n*sum_product) - (sum_1*sum_2))/math.sqrt(((n*sum_sq_1) - sum_sum_1) * ((n*sum_sq_2) - sum_sum_2))\n",
    "    print(\"Коефіцієнт кореляції: r = \", r)\n",
    "    \n",
    "    df = n-2\n",
    "    print(\"Значення ступенів свободи: df = \", df)\n",
    "   \n",
    "    import xlrd, xlwt\n",
    "    rb = xlrd.open_workbook('Pirson.xlsx')\n",
    "    sheet = rb.sheet_by_index(0)\n",
    "    r_t = sheet.row_values(df)[1]\n",
    "    print(\"Критичне значення коефіцієнту кореляції: = \",r_t)\n",
    "    \n",
    "    if(r_t < r):\n",
    "        result = \"significant\" \n",
    "    else:\n",
    "        result = \"not significant\"\n",
    "    print(\"Результат оцінки значимості зв'язку:\", result)"
   ]
  },
  {
   "cell_type": "code",
   "execution_count": 5,
   "metadata": {},
   "outputs": [
    {
     "name": "stdout",
     "output_type": "stream",
     "text": [
      "Коефіцієнт кореляції: r =  -0.08077998042746246\n",
      "Значення ступенів свободи: df =  10\n",
      "Критичне значення коефіцієнту кореляції: =  0.576\n",
      "Результат оцінки значимості зв'язку: not significant\n"
     ]
    }
   ],
   "source": [
    " Pirson(column1, column2)"
   ]
  },
  {
   "cell_type": "markdown",
   "metadata": {},
   "source": [
    "Написати функцію для визначення відмінності між групами за критерієм Стьюдента. Функція має повертати значення критерію Стьюдента,значення ступеня свободи та результат оцінки значимості зв'зку (significant або not significant)"
   ]
  },
  {
   "cell_type": "code",
   "execution_count": 6,
   "metadata": {},
   "outputs": [],
   "source": [
    "def Student(column1, column2):\n",
    "    d = []\n",
    "    n = len(column1)\n",
    "    for i in range(n):\n",
    "        d.append(column1[i] - column2[i])\n",
    "    Mid = sum(d)/n \n",
    "    qd = np.std(d, ddof = 1)\n",
    "   \n",
    "    t = (Mid/qd)*math.sqrt(n)\n",
    "    print('')\n",
    "    print(\"Значення критерію Стюдента: t = \", t)\n",
    "    \n",
    "    df = n - 1\n",
    "    print(\"Значення ступенів свободи: df = \", df)\n",
    "    \n",
    "    import xlrd, xlwt\n",
    "    rb = xlrd.open_workbook('Student.xlsx')\n",
    "    sheet = rb.sheet_by_index(0)\n",
    "    t_t = sheet.row_values(df)[1] \n",
    "    print(\"Критичне значення: = \",t_t)\n",
    "    \n",
    "    if(t_t < t):\n",
    "        result = \"significant\" \n",
    "    else:\n",
    "        result = \"not significant\" \n",
    "    print(\"Результат оцінки значимості зв'язку:\", result)"
   ]
  },
  {
   "cell_type": "code",
   "execution_count": 7,
   "metadata": {},
   "outputs": [
    {
     "name": "stdout",
     "output_type": "stream",
     "text": [
      "\n",
      "Значення критерію Стюдента: t =  0.4642049806440167\n",
      "Значення ступенів свободи: df =  11\n",
      "Критичне значення: =  2.201\n",
      "Результат оцінки значимості зв'язку: not significant\n"
     ]
    }
   ],
   "source": [
    "Student(column1, column2)"
   ]
  },
  {
   "cell_type": "markdown",
   "metadata": {},
   "source": [
    "\n",
    "Висновок:\n",
    "\n",
    "Аналізуючи оцінки написаного учнями теста перший раз та другий, після повторної підготовки, можна зробити висновок що:\n",
    "\n",
    "1.за коефіцієнтом кореляції Пірсона було доведено, що статистичної залежності між групами немає;\n",
    "2.виявлена наявність статистично значущих відмінностей оцінки теста перший раз та другий, після повторної підготовки, адже отримане значення критерію Стьюдента є більшим за критичне.Звітси слідує, що була прийнята альтернативна гіпотеза про відмінність середніх."
   ]
  }
 ],
 "metadata": {
  "kernelspec": {
   "display_name": "Python 3",
   "language": "python",
   "name": "python3"
  },
  "language_info": {
   "codemirror_mode": {
    "name": "ipython",
    "version": 3
   },
   "file_extension": ".py",
   "mimetype": "text/x-python",
   "name": "python",
   "nbconvert_exporter": "python",
   "pygments_lexer": "ipython3",
   "version": "3.7.4"
  }
 },
 "nbformat": 4,
 "nbformat_minor": 2
}
