{
 "cells": [
  {
   "cell_type": "markdown",
   "metadata": {},
   "source": [
    "Лабораторна робота №7\n",
    "\n",
    "Студентки гр.БС-83 Павельчак Катерини\n",
    "\n",
    "Тема: t-критерій Стьюдента для незалежних вибірок\n",
    "    "
   ]
  },
  {
   "cell_type": "markdown",
   "metadata": {},
   "source": [
    "Обрати реальні дані з kaggle або сгенерувати випадкові дані. Дані мають відповідати вимогам викладеним вище."
   ]
  },
  {
   "cell_type": "code",
   "execution_count": 1,
   "metadata": {},
   "outputs": [],
   "source": [
    "import numpy as np\n",
    "import pandas as pd\n",
    "import scipy.stats as ss\n",
    "import seaborn as sns\n",
    "import math\n",
    "import matplotlib.pyplot as plt\n",
    "from numpy.random import randint"
   ]
  },
  {
   "cell_type": "code",
   "execution_count": 2,
   "metadata": {},
   "outputs": [
    {
     "data": {
      "text/html": [
       "<div>\n",
       "<style scoped>\n",
       "    .dataframe tbody tr th:only-of-type {\n",
       "        vertical-align: middle;\n",
       "    }\n",
       "\n",
       "    .dataframe tbody tr th {\n",
       "        vertical-align: top;\n",
       "    }\n",
       "\n",
       "    .dataframe thead th {\n",
       "        text-align: right;\n",
       "    }\n",
       "</style>\n",
       "<table border=\"1\" class=\"dataframe\">\n",
       "  <thead>\n",
       "    <tr style=\"text-align: right;\">\n",
       "      <th>Кількість пропусків за місяць</th>\n",
       "      <th>Студенти КПІ</th>\n",
       "      <th>Студенти НАУ</th>\n",
       "    </tr>\n",
       "    <tr>\n",
       "      <th>Число месяца</th>\n",
       "      <th></th>\n",
       "      <th></th>\n",
       "    </tr>\n",
       "  </thead>\n",
       "  <tbody>\n",
       "    <tr>\n",
       "      <td>1</td>\n",
       "      <td>13</td>\n",
       "      <td>11</td>\n",
       "    </tr>\n",
       "    <tr>\n",
       "      <td>2</td>\n",
       "      <td>14</td>\n",
       "      <td>10</td>\n",
       "    </tr>\n",
       "    <tr>\n",
       "      <td>3</td>\n",
       "      <td>13</td>\n",
       "      <td>26</td>\n",
       "    </tr>\n",
       "    <tr>\n",
       "      <td>4</td>\n",
       "      <td>4</td>\n",
       "      <td>16</td>\n",
       "    </tr>\n",
       "    <tr>\n",
       "      <td>5</td>\n",
       "      <td>24</td>\n",
       "      <td>1</td>\n",
       "    </tr>\n",
       "    <tr>\n",
       "      <td>6</td>\n",
       "      <td>19</td>\n",
       "      <td>27</td>\n",
       "    </tr>\n",
       "    <tr>\n",
       "      <td>7</td>\n",
       "      <td>10</td>\n",
       "      <td>26</td>\n",
       "    </tr>\n",
       "    <tr>\n",
       "      <td>8</td>\n",
       "      <td>18</td>\n",
       "      <td>12</td>\n",
       "    </tr>\n",
       "    <tr>\n",
       "      <td>9</td>\n",
       "      <td>6</td>\n",
       "      <td>19</td>\n",
       "    </tr>\n",
       "    <tr>\n",
       "      <td>10</td>\n",
       "      <td>16</td>\n",
       "      <td>24</td>\n",
       "    </tr>\n",
       "    <tr>\n",
       "      <td>11</td>\n",
       "      <td>20</td>\n",
       "      <td>3</td>\n",
       "    </tr>\n",
       "    <tr>\n",
       "      <td>12</td>\n",
       "      <td>28</td>\n",
       "      <td>15</td>\n",
       "    </tr>\n",
       "    <tr>\n",
       "      <td>13</td>\n",
       "      <td>11</td>\n",
       "      <td>17</td>\n",
       "    </tr>\n",
       "    <tr>\n",
       "      <td>14</td>\n",
       "      <td>2</td>\n",
       "      <td>23</td>\n",
       "    </tr>\n",
       "    <tr>\n",
       "      <td>15</td>\n",
       "      <td>3</td>\n",
       "      <td>22</td>\n",
       "    </tr>\n",
       "    <tr>\n",
       "      <td>16</td>\n",
       "      <td>10</td>\n",
       "      <td>10</td>\n",
       "    </tr>\n",
       "    <tr>\n",
       "      <td>17</td>\n",
       "      <td>16</td>\n",
       "      <td>16</td>\n",
       "    </tr>\n",
       "    <tr>\n",
       "      <td>18</td>\n",
       "      <td>2</td>\n",
       "      <td>18</td>\n",
       "    </tr>\n",
       "    <tr>\n",
       "      <td>19</td>\n",
       "      <td>4</td>\n",
       "      <td>23</td>\n",
       "    </tr>\n",
       "    <tr>\n",
       "      <td>20</td>\n",
       "      <td>1</td>\n",
       "      <td>23</td>\n",
       "    </tr>\n",
       "    <tr>\n",
       "      <td>21</td>\n",
       "      <td>4</td>\n",
       "      <td>19</td>\n",
       "    </tr>\n",
       "    <tr>\n",
       "      <td>22</td>\n",
       "      <td>6</td>\n",
       "      <td>4</td>\n",
       "    </tr>\n",
       "    <tr>\n",
       "      <td>23</td>\n",
       "      <td>6</td>\n",
       "      <td>28</td>\n",
       "    </tr>\n",
       "    <tr>\n",
       "      <td>24</td>\n",
       "      <td>24</td>\n",
       "      <td>17</td>\n",
       "    </tr>\n",
       "    <tr>\n",
       "      <td>25</td>\n",
       "      <td>17</td>\n",
       "      <td>15</td>\n",
       "    </tr>\n",
       "    <tr>\n",
       "      <td>26</td>\n",
       "      <td>9</td>\n",
       "      <td>21</td>\n",
       "    </tr>\n",
       "    <tr>\n",
       "      <td>27</td>\n",
       "      <td>5</td>\n",
       "      <td>13</td>\n",
       "    </tr>\n",
       "    <tr>\n",
       "      <td>28</td>\n",
       "      <td>8</td>\n",
       "      <td>27</td>\n",
       "    </tr>\n",
       "    <tr>\n",
       "      <td>29</td>\n",
       "      <td>24</td>\n",
       "      <td>18</td>\n",
       "    </tr>\n",
       "    <tr>\n",
       "      <td>30</td>\n",
       "      <td>28</td>\n",
       "      <td>6</td>\n",
       "    </tr>\n",
       "  </tbody>\n",
       "</table>\n",
       "</div>"
      ],
      "text/plain": [
       "Кількість пропусків за місяць  Студенти КПІ  Студенти НАУ\n",
       "Число месяца                                             \n",
       "1                                        13            11\n",
       "2                                        14            10\n",
       "3                                        13            26\n",
       "4                                         4            16\n",
       "5                                        24             1\n",
       "6                                        19            27\n",
       "7                                        10            26\n",
       "8                                        18            12\n",
       "9                                         6            19\n",
       "10                                       16            24\n",
       "11                                       20             3\n",
       "12                                       28            15\n",
       "13                                       11            17\n",
       "14                                        2            23\n",
       "15                                        3            22\n",
       "16                                       10            10\n",
       "17                                       16            16\n",
       "18                                        2            18\n",
       "19                                        4            23\n",
       "20                                        1            23\n",
       "21                                        4            19\n",
       "22                                        6             4\n",
       "23                                        6            28\n",
       "24                                       24            17\n",
       "25                                       17            15\n",
       "26                                        9            21\n",
       "27                                        5            13\n",
       "28                                        8            27\n",
       "29                                       24            18\n",
       "30                                       28             6"
      ]
     },
     "execution_count": 2,
     "metadata": {},
     "output_type": "execute_result"
    }
   ],
   "source": [
    "Grupa1 =  randint(1, 30,30)\n",
    "Grupa2 =  randint(1, 30, 30)\n",
    "table = pd.DataFrame({'Студенти КПІ':Grupa1,\n",
    "                            'Студенти НАУ':Grupa2},\n",
    "                            index=np.arange(1, len(Grupa1) + 1))\n",
    "table.index.name = 'Число месяца'\n",
    "table.columns.name = 'Кількість пропусків за місяць'\n",
    "table"
   ]
  },
  {
   "cell_type": "markdown",
   "metadata": {},
   "source": [
    "Побудувати графік, що відображає розкид даних в групах"
   ]
  },
  {
   "cell_type": "code",
   "execution_count": 3,
   "metadata": {},
   "outputs": [
    {
     "data": {
      "text/plain": [
       "[]"
      ]
     },
     "execution_count": 3,
     "metadata": {},
     "output_type": "execute_result"
    },
    {
     "data": {
      "image/png": "[encoded data removed]",
      "text/plain": [
       "<Figure size 432x288 with 1 Axes>"
      ]
     },
     "metadata": {
      "needs_background": "light"
     },
     "output_type": "display_data"
    }
   ],
   "source": [
    "sns.boxplot(data=table, orient='h',palette='coolwarm').set()"
   ]
  },
  {
   "cell_type": "markdown",
   "metadata": {},
   "source": [
    "Написати функцію для оцінки вімінностей дисперсій між групами за критерієм Лівеня. Функція має повертати значення тесту та результат оцінки рівності дисперсій (significant або not significant)"
   ]
  },
  {
   "cell_type": "code",
   "execution_count": 4,
   "metadata": {},
   "outputs": [],
   "source": [
    "def duspersia(arr):\n",
    "    return np.var(arr)\n",
    "\n",
    "def Livena(team1, team2):\n",
    "    d1 = duspersia(team1)\n",
    "    d2 = duspersia(team2)\n",
    "    if(d1 >= d2):\n",
    "        F=d1/d2\n",
    "    else:\n",
    "        F=d2/d1 \n",
    "    print(\"Отримане значення критерію Лівеня: F = \", F)\n",
    "    \n",
    "    df1=len(team1)-1\n",
    "    df2=len(team2)-1\n",
    "\n",
    "    import xlrd, xlwt\n",
    "    rb = xlrd.open_workbook('Таблиця критичних значень для критерію Лівеня.xlsx')\n",
    "    sheet = rb.sheet_by_index(0)\n",
    "    if(df1<=10 and df2<=20):\n",
    "        F_tabl = sheet.row_values(df2 + 1)[df1]\n",
    "    \n",
    "    if(df1==15 and df2<=20):\n",
    "        F_tabl = sheet.row_values(df2 + 1)[11]\n",
    "    if(df1>15 and df2>20):\n",
    "        F_tabl = sheet.row_values(22)[12]    \n",
    "    \n",
    "    print(\"Критичне значення критерію: F_кр = \", F_tabl)\n",
    "    if (F_tabl < F):\n",
    "        result = \"significant\" \n",
    "    else:\n",
    "        result = \"not significant\"  \n",
    "    print(\"Результат оцінки значимості зв'зку: \",result)\n",
    "    return result"
   ]
  },
  {
   "cell_type": "code",
   "execution_count": 5,
   "metadata": {},
   "outputs": [
    {
     "name": "stdout",
     "output_type": "stream",
     "text": [
      "Отримане значення критерію Лівеня: F =  1.1991141326740835\n",
      "Критичне значення критерію: F_кр =  1.45\n",
      "Результат оцінки значимості зв'зку:  not significant\n"
     ]
    },
    {
     "data": {
      "text/plain": [
       "'not significant'"
      ]
     },
     "execution_count": 5,
     "metadata": {},
     "output_type": "execute_result"
    }
   ],
   "source": [
    "Livena(Grupa1,Grupa2)"
   ]
  },
  {
   "cell_type": "markdown",
   "metadata": {},
   "source": [
    "Написати функцію для визначення відмінності між групами за критерієм Стьюдента в залежності від рівності/відмінності дисперсій. Функція має повертати значення критерію Стьюдента,значення ступеня свободи та результат оцінки значимості звязку (significant або not significant)"
   ]
  },
  {
   "cell_type": "code",
   "execution_count": 6,
   "metadata": {},
   "outputs": [],
   "source": [
    "def Sum_count(arr):\n",
    "    sum=0\n",
    "    for i in range(len(arr)):\n",
    "        sum += arr[i]\n",
    "    return sum/len(arr)    \n",
    "\n",
    "def Standatne_vid(arr):\n",
    "    return np.std(arr)\n",
    "\n",
    "def Student(result, team_1, team_2):\n",
    "    r1 = \"not significant\"\n",
    "    \n",
    "    sum1 = Sum_count(team_1)\n",
    "    sum2 = Sum_count(team_2)\n",
    "    \n",
    "    N1 = len(team_1)\n",
    "    N2 = len(team_2)\n",
    "    \n",
    "    q1 = Standatne_vid(team_1)\n",
    "    q2 = Standatne_vid(team_2)\n",
    "\n",
    "    q2_1 = q1**2\n",
    "    q2_2 = q2**2\n",
    "    \n",
    "    \n",
    "    if(r1 == result):\n",
    "        t = (abs(sum1 - sum2))/(math.sqrt((q2_1/N1)+((q2_2)/N2)))\n",
    "    else:\n",
    "        t = (abs(sum1 - sum2))/(math.sqrt(((((N1-1)*q2_1) + ((N2-1)*q2_2))*((1/N1)+(1/N2)))/(N1 + N2 - 2)))\n",
    "    print(\"--------------------------------------------------------\")     \n",
    "    print(\"Отримане значення критерію Стьюдента: t = \", t)\n",
    "    \n",
    "    df = N1 + N2 - 2\n",
    "    print(\"Ступінь свободи: df = \", df)\n",
    "    \n",
    "    import xlrd, xlwt\n",
    "    rb = xlrd.open_workbook('Таблиця критичних значень для критерію Стьюдента.xlsx')\n",
    "    sheet = rb.sheet_by_index(0)\n",
    "    t_tabl = sheet.row_values(df)[1]\n",
    "    print(\"Критичне значення критерію Стюдента tкр = \", t_tabl)\n",
    "    \n",
    "    if(t>t_tabl):\n",
    "        result_2 = \"significant\" \n",
    "    else:\n",
    "        result_2 = \"not significant\" \n",
    "    print(\"Результат оцінки значимості зв'зку: \", result_2)"
   ]
  },
  {
   "cell_type": "code",
   "execution_count": 7,
   "metadata": {},
   "outputs": [
    {
     "name": "stdout",
     "output_type": "stream",
     "text": [
      "Отримане значення критерію Лівеня: F =  1.1991141326740835\n",
      "Критичне значення критерію: F_кр =  1.45\n",
      "Результат оцінки значимості зв'зку:  not significant\n",
      "--------------------------------------------------------\n",
      "Отримане значення критерію Стьюдента: t =  2.4308315183931652\n",
      "Ступінь свободи: df =  58\n",
      "Критичне значення критерію Стюдента tкр =  2.002\n",
      "Результат оцінки значимості зв'зку:  significant\n"
     ]
    }
   ],
   "source": [
    "Student(Livena(Grupa1,Grupa2),Grupa1, Grupa2 )"
   ]
  },
  {
   "cell_type": "markdown",
   "metadata": {},
   "source": [
    "\n",
    "Висновки:\n",
    "\n",
    "1.В результаті перевірки даних на рівність дисперсії за тестом Лівеня було, отримано результат F < Fкр, що означає що ми повинні прийняти нульову гіпотезу, тобто зробити висновок про статичну рівність дисперсій.\n",
    "\n",
    "2.В результаті перевірки відмінності між групами за допомогою критерію Стюдента для незалежних вибірок, було отримано результат t > tкр. Це свідчить про те, що ми відхиляємо нульову гіпотезу (тобто приймаємо альтернативну), та робимо висновок про статичну відмінність середніх."
   ]
  }
 ],
 "metadata": {
  "kernelspec": {
   "display_name": "Python 3",
   "language": "python",
   "name": "python3"
  },
  "language_info": {
   "codemirror_mode": {
    "name": "ipython",
    "version": 3
   },
   "file_extension": ".py",
   "mimetype": "text/x-python",
   "name": "python",
   "nbconvert_exporter": "python",
   "pygments_lexer": "ipython3",
   "version": "3.7.4"
  }
 },
 "nbformat": 4,
 "nbformat_minor": 2
}
