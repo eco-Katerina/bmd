{
 "cells": [
  {
   "cell_type": "markdown",
   "metadata": {},
   "source": [
    "Лабораторна работа №5\n",
    "студентки гр.БС-83\n",
    "Павельчак Катерини"
   ]
  },
  {
   "cell_type": "code",
   "execution_count": 1,
   "metadata": {},
   "outputs": [],
   "source": [
    "import numpy as np\n",
    "import pandas as pd\n",
    "import matplotlib.pyplot as plt\n",
    "import seaborn as sns\n",
    "import xlrd, xlwt"
   ]
  },
  {
   "cell_type": "code",
   "execution_count": 78,
   "metadata": {},
   "outputs": [
    {
     "data": {
      "text/html": [
       "<div>\n",
       "<style scoped>\n",
       "    .dataframe tbody tr th:only-of-type {\n",
       "        vertical-align: middle;\n",
       "    }\n",
       "\n",
       "    .dataframe tbody tr th {\n",
       "        vertical-align: top;\n",
       "    }\n",
       "\n",
       "    .dataframe thead th {\n",
       "        text-align: right;\n",
       "    }\n",
       "</style>\n",
       "<table border=\"1\" class=\"dataframe\">\n",
       "  <thead>\n",
       "    <tr style=\"text-align: right;\">\n",
       "      <th></th>\n",
       "      <th>Grupa1</th>\n",
       "      <th>Grupa2</th>\n",
       "    </tr>\n",
       "  </thead>\n",
       "  <tbody>\n",
       "    <tr>\n",
       "      <td>Ozn_1</td>\n",
       "      <td>33</td>\n",
       "      <td>31</td>\n",
       "    </tr>\n",
       "    <tr>\n",
       "      <td>Ozn_2</td>\n",
       "      <td>32</td>\n",
       "      <td>30</td>\n",
       "    </tr>\n",
       "    <tr>\n",
       "      <td>Ozn_3</td>\n",
       "      <td>34</td>\n",
       "      <td>32</td>\n",
       "    </tr>\n",
       "    <tr>\n",
       "      <td>Ozn_4</td>\n",
       "      <td>35</td>\n",
       "      <td>34</td>\n",
       "    </tr>\n",
       "    <tr>\n",
       "      <td>Ozn_5</td>\n",
       "      <td>34</td>\n",
       "      <td>33</td>\n",
       "    </tr>\n",
       "    <tr>\n",
       "      <td>Ozn_6</td>\n",
       "      <td>35</td>\n",
       "      <td>33</td>\n",
       "    </tr>\n",
       "    <tr>\n",
       "      <td>Ozn_7</td>\n",
       "      <td>34</td>\n",
       "      <td>34</td>\n",
       "    </tr>\n",
       "  </tbody>\n",
       "</table>\n",
       "</div>"
      ],
      "text/plain": [
       "       Grupa1  Grupa2\n",
       "Ozn_1      33      31\n",
       "Ozn_2      32      30\n",
       "Ozn_3      34      32\n",
       "Ozn_4      35      34\n",
       "Ozn_5      34      33\n",
       "Ozn_6      35      33\n",
       "Ozn_7      34      34"
      ]
     },
     "execution_count": 78,
     "metadata": {},
     "output_type": "execute_result"
    }
   ],
   "source": [
    "table = pd.DataFrame({'Grupa1':[33,32,34,35,34,35,34],\n",
    "                      'Grupa2':[31,30,32,34,33,33,34]},\n",
    "                    index = ['Ozn_1','Ozn_2','Ozn_3','Ozn_4','Ozn_5','Ozn_6','Ozn_7'])\n",
    "table"
   ]
  },
  {
   "cell_type": "markdown",
   "metadata": {},
   "source": [
    "Побудувати графік, що відображає розподіл ознак в групах"
   ]
  },
  {
   "cell_type": "code",
   "execution_count": 79,
   "metadata": {},
   "outputs": [
    {
     "data": {
      "text/plain": [
       "[<matplotlib.lines.Line2D at 0x1c7d84b2688>]"
      ]
     },
     "execution_count": 79,
     "metadata": {},
     "output_type": "execute_result"
    },
    {
     "data": {
      "image/png": "[encoded data removed]",
      "text/plain": [
       "<Figure size 432x288 with 2 Axes>"
      ]
     },
     "metadata": {
      "needs_background": "light"
     },
     "output_type": "display_data"
    }
   ],
   "source": [
    "plt.subplot(1, 2, 1) \n",
    "plt.plot(table.index, table['Grupa1'], 'y')\n",
    "\n",
    "plt.subplot(1, 2, 2) \n",
    "plt.plot(table.index, table['Grupa2'], 'g')"
   ]
  },
  {
   "cell_type": "markdown",
   "metadata": {},
   "source": [
    "Написати функцію, що оцінює зв'язок між ознакою та групою за критерієм Пірсона. Функція має оцінювати розбіжність на двох рівнях 0,01 та 0,05, в залежністі від параметру significant_level, що передається в неї. Врахувати у функції випадок, що сума частот ознаки у групах може бути відмінною"
   ]
  },
  {
   "cell_type": "code",
   "execution_count": 83,
   "metadata": {},
   "outputs": [],
   "source": [
    "def pirson (table, significant_level, num_level):\n",
    "    z = 0\n",
    "    prob = 0\n",
    "    x_emp = 0\n",
    "    gr_n=[]   #(n-n')^2\n",
    "    gr_n_div=[] #(n-n')^2 / n'\n",
    "    \n",
    "    l_st=len(table.iloc[:,0])\n",
    "    for i in range(l_st):\n",
    "        z = table.iloc[i,0] - table.iloc[i,1]\n",
    "        z_sq = z**2 #(n-n')^2\n",
    "        gr_n.append(z_sq)\n",
    "        z_sq_div = z_sq/table.iloc[i,1] #(n-n')^2 / n'\n",
    "        gr_n_div.append(z_sq_div)\n",
    "        x_emp += z_sq_div \n",
    "   \n",
    "    table[\"(n-n')^2\"] = gr_n  \n",
    "    table[\"(n-n')^2 / n\"] = gr_n_div\n",
    "    print(table)\n",
    "    print('')\n",
    "    print(\"Сума отриманих значень: χ^2 =\",x_emp)\n",
    "    r= l_st - 1 #ступінь свободи критерію\n",
    "    print(\"Ступінь свободи: r =\",r)\n",
    "    \n",
    "    import xlrd, xlwt\n",
    "    rb = xlrd.open_workbook('Таблиця критичних значень для критерію Пірсона.xlsx')\n",
    "    sheet = rb.sheet_by_index(0)\n",
    "    x_kr = sheet.row_values(r+1)[num_level]\n",
    "    print(\"χ^2 критичне = \", x_kr)\n",
    "    \n",
    "    text = 0   \n",
    "    if((x_emp**2) > (x_kr**2)):\n",
    "        text = \"Розбіжність значима бо χ^2 > χ^2(критичне)\"%table\n",
    "    else:\n",
    "        text = \"Розбіжність незначима бо χ^2 < χ^2(критичне)\"%table\n",
    "    print(text)\n",
    "    print(\"\")    "
   ]
  },
  {
   "cell_type": "code",
   "execution_count": 84,
   "metadata": {},
   "outputs": [
    {
     "name": "stdout",
     "output_type": "stream",
     "text": [
      "       Grupa1  Grupa2  (n-n')^2  (n-n')^2 / n\n",
      "Ozn_1      33      31         4      0.129032\n",
      "Ozn_2      32      30         4      0.133333\n",
      "Ozn_3      34      32         4      0.125000\n",
      "Ozn_4      35      34         1      0.029412\n",
      "Ozn_5      34      33         1      0.030303\n",
      "Ozn_6      35      33         4      0.121212\n",
      "Ozn_7      34      34         0      0.000000\n",
      "\n",
      "Сума отриманих значень: χ^2 = 0.5682925076188833\n",
      "Ступінь свободи: r = 6\n",
      "χ^2 критичне =  16.8\n",
      "Розбіжність незначима бо χ^2 < χ^2(критичне)\n",
      "\n"
     ]
    }
   ],
   "source": [
    "pirson (table, 0.01, 1) #(\"1\" є номером стовпця в таблиці для 0.01)"
   ]
  },
  {
   "cell_type": "code",
   "execution_count": 85,
   "metadata": {},
   "outputs": [
    {
     "name": "stdout",
     "output_type": "stream",
     "text": [
      "       Grupa1  Grupa2  (n-n')^2  (n-n')^2 / n\n",
      "Ozn_1      33      31         4      0.129032\n",
      "Ozn_2      32      30         4      0.133333\n",
      "Ozn_3      34      32         4      0.125000\n",
      "Ozn_4      35      34         1      0.029412\n",
      "Ozn_5      34      33         1      0.030303\n",
      "Ozn_6      35      33         4      0.121212\n",
      "Ozn_7      34      34         0      0.000000\n",
      "\n",
      "Сума отриманих значень: χ^2 = 0.5682925076188833\n",
      "Ступінь свободи: r = 6\n",
      "χ^2 критичне =  12.6\n",
      "Розбіжність незначима бо χ^2 < χ^2(критичне)\n",
      "\n"
     ]
    }
   ],
   "source": [
    "pirson (table, 0.05, 2) #(\"1\" є номером стовпця в таблиці для 0.05)"
   ]
  },
  {
   "cell_type": "markdown",
   "metadata": {},
   "source": [
    "Додати до таблиці стовбчики з відсотовим розподілом по градаціям всередині груп. Окремо вивести результати роботи критерію (чи є статистична розбіжність між групами)\n"
   ]
  },
  {
   "cell_type": "code",
   "execution_count": 87,
   "metadata": {},
   "outputs": [
    {
     "name": "stdout",
     "output_type": "stream",
     "text": [
      "       Grupa1  Grupa2  Grupa1 %  Grupa2 %\n",
      "Ozn_1      33      31  13.92405  13.65639\n",
      "Ozn_2      32      30  13.50211  13.21586\n",
      "Ozn_3      34      32  14.34599  14.09692\n",
      "Ozn_4      35      34  14.76793  14.97797\n",
      "Ozn_5      34      33  14.34599  14.53744\n",
      "Ozn_6      35      33  14.76793  14.53744\n",
      "Ozn_7      34      34  14.34599  14.97797\n"
     ]
    }
   ],
   "source": [
    "s1 = 0\n",
    "s2 = 0\n",
    "long=len(table.iloc[:,0])\n",
    "\n",
    "for i in range(long):\n",
    "    s1 += table.iloc[i,0]\n",
    "for i in range(long):\n",
    "    s2 += table.iloc[i,1]\n",
    "\n",
    "gr_1 = []\n",
    "gr_2 = []\n",
    "tmp1 = 0\n",
    "for i in range(long):\n",
    "    tmp1 = (table.iloc[i,0] * 100) / s1\n",
    "    tmp1 = float('{:.5f}'.format(tmp1))\n",
    "    gr_1.append(tmp1)\n",
    "\n",
    "tmp2 = 0\n",
    "for i in range(long):\n",
    "    tmp2 = (table.iloc[i,1] * 100) / s2\n",
    "    tmp2 = float('{:.5f}'.format(tmp2)) \n",
    "    gr_2.append(tmp2)\n",
    "\n",
    "new_table = pd.DataFrame({'Grupa1':[33,32,34,35,34,35,34],\n",
    "                      'Grupa2':[31,30,32,34,33,33,34]},\n",
    "                    index = ['Ozn_1','Ozn_2','Ozn_3','Ozn_4','Ozn_5','Ozn_6','Ozn_7'])\n",
    "\n",
    "new_table[\"Grupa1 %\"] = gr_1       \n",
    "new_table[\"Grupa2 %\"] = gr_2\n",
    "print(new_table)"
   ]
  },
  {
   "cell_type": "markdown",
   "metadata": {},
   "source": [
    "\n",
    "Реультати всієї роботи критерію:"
   ]
  },
  {
   "cell_type": "code",
   "execution_count": 89,
   "metadata": {},
   "outputs": [
    {
     "name": "stdout",
     "output_type": "stream",
     "text": [
      "       Grupa1  Grupa2  (n-n')^2  (n-n')^2 / n\n",
      "Ozn_1      33      31         4      0.129032\n",
      "Ozn_2      32      30         4      0.133333\n",
      "Ozn_3      34      32         4      0.125000\n",
      "Ozn_4      35      34         1      0.029412\n",
      "Ozn_5      34      33         1      0.030303\n",
      "Ozn_6      35      33         4      0.121212\n",
      "Ozn_7      34      34         0      0.000000\n",
      "\n",
      "Сума отриманих значень: χ^2 = 0.5682925076188833\n",
      "Ступінь свободи: r = 6\n",
      "χ^2 критичне =  16.8\n",
      "Розбіжність незначима бо χ^2 < χ^2(критичне)\n",
      "\n",
      "       Grupa1  Grupa2  (n-n')^2  (n-n')^2 / n\n",
      "Ozn_1      33      31         4      0.129032\n",
      "Ozn_2      32      30         4      0.133333\n",
      "Ozn_3      34      32         4      0.125000\n",
      "Ozn_4      35      34         1      0.029412\n",
      "Ozn_5      34      33         1      0.030303\n",
      "Ozn_6      35      33         4      0.121212\n",
      "Ozn_7      34      34         0      0.000000\n",
      "\n",
      "Сума отриманих значень: χ^2 = 0.5682925076188833\n",
      "Ступінь свободи: r = 6\n",
      "χ^2 критичне =  12.6\n",
      "Розбіжність незначима бо χ^2 < χ^2(критичне)\n",
      "\n"
     ]
    },
    {
     "data": {
      "text/html": [
       "<div>\n",
       "<style scoped>\n",
       "    .dataframe tbody tr th:only-of-type {\n",
       "        vertical-align: middle;\n",
       "    }\n",
       "\n",
       "    .dataframe tbody tr th {\n",
       "        vertical-align: top;\n",
       "    }\n",
       "\n",
       "    .dataframe thead th {\n",
       "        text-align: right;\n",
       "    }\n",
       "</style>\n",
       "<table border=\"1\" class=\"dataframe\">\n",
       "  <thead>\n",
       "    <tr style=\"text-align: right;\">\n",
       "      <th>significant level</th>\n",
       "      <th>Рівень значимості</th>\n",
       "    </tr>\n",
       "  </thead>\n",
       "  <tbody>\n",
       "    <tr>\n",
       "      <td>0.01</td>\n",
       "      <td>None</td>\n",
       "    </tr>\n",
       "    <tr>\n",
       "      <td>0.05</td>\n",
       "      <td>None</td>\n",
       "    </tr>\n",
       "  </tbody>\n",
       "</table>\n",
       "</div>"
      ],
      "text/plain": [
       "significant level Рівень значимості\n",
       "0.01                           None\n",
       "0.05                           None"
      ]
     },
     "execution_count": 89,
     "metadata": {},
     "output_type": "execute_result"
    }
   ],
   "source": [
    "result_table = pd.DataFrame( {\"Рівень значимості\":[pirson(table, 0.01, 1), pirson (table, 0.05, 2)]},\n",
    "                        index = [\"0.01\",\"0.05\"])\n",
    "result_table.columns.name = \"significant level\"\n",
    "result_table"
   ]
  },
  {
   "cell_type": "code",
   "execution_count": null,
   "metadata": {},
   "outputs": [],
   "source": [
    " "
   ]
  }
 ],
 "metadata": {
  "kernelspec": {
   "display_name": "Python 3",
   "language": "python",
   "name": "python3"
  },
  "language_info": {
   "codemirror_mode": {
    "name": "ipython",
    "version": 3
   },
   "file_extension": ".py",
   "mimetype": "text/x-python",
   "name": "python",
   "nbconvert_exporter": "python",
   "pygments_lexer": "ipython3",
   "version": "3.7.4"
  }
 },
 "nbformat": 4,
 "nbformat_minor": 2
}
