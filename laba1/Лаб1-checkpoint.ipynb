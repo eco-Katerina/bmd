{
 "cells": [
  {
   "cell_type": "code",
   "execution_count": 1,
   "metadata": {},
   "outputs": [],
   "source": [
    "# Дисципліна: Обробка та аналіз БМД\n",
    "# Група БС-83\n",
    "# Павельчак Катерина "
   ]
  },
  {
   "cell_type": "code",
   "execution_count": 2,
   "metadata": {},
   "outputs": [],
   "source": [
    "import pandas as pd "
   ]
  },
  {
   "cell_type": "code",
   "execution_count": null,
   "metadata": {},
   "outputs": [],
   "source": [
    "new_df= = pd.DataFrame(\n",
    "{\n",
    "    \"Group number\": [81, 82, 83],\n",
    "    \"Specialty code\": ['BS', 'BM', 'BR'],\n",
    "    \"Students excuses\": [True, False, False],\n",
    "    \"Average mark\": [96.5, 66.2,75.4],\n",
    "    \n",
    "    \n",
    "})"
   ]
  }
 ],
 "metadata": {
  "kernelspec": {
   "display_name": "Python 3",
   "language": "python",
   "name": "python3"
  },
  "language_info": {
   "codemirror_mode": {
    "name": "ipython",
    "version": 3
   },
   "file_extension": ".py",
   "mimetype": "text/x-python",
   "name": "python",
   "nbconvert_exporter": "python",
   "pygments_lexer": "ipython3",
   "version": "3.7.4"
  }
 },
 "nbformat": 4,
 "nbformat_minor": 2
}
