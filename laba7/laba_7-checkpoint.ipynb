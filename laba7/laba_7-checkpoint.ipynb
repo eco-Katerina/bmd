{
 "cells": [
  {
   "cell_type": "markdown",
   "metadata": {},
   "source": [
    "Лабораторна робота №7\n",
    "\n",
    "Студентки гр.БС-83 Павельчак Катерини\n",
    "\n",
    "Тема: t-критерій Стьюдента для незалежних вибірок\n",
    "    "
   ]
  },
  {
   "cell_type": "markdown",
   "metadata": {},
   "source": [
    "Обрати реальні дані з kaggle або сгенерувати випадкові дані. Дані мають відповідати вимогам викладеним вище."
   ]
  },
  {
   "cell_type": "code",
   "execution_count": 1,
   "metadata": {},
   "outputs": [],
   "source": [
    "import numpy as np\n",
    "import pandas as pd\n",
    "import scipy.stats as ss\n",
    "import seaborn as sns\n",
    "import math\n",
    "import matplotlib.pyplot as plt\n",
    "from numpy.random import randint"
   ]
  },
  {
   "cell_type": "code",
   "execution_count": 7,
   "metadata": {},
   "outputs": [
    {
     "data": {
      "text/html": [
       "<div>\n",
       "<style scoped>\n",
       "    .dataframe tbody tr th:only-of-type {\n",
       "        vertical-align: middle;\n",
       "    }\n",
       "\n",
       "    .dataframe tbody tr th {\n",
       "        vertical-align: top;\n",
       "    }\n",
       "\n",
       "    .dataframe thead th {\n",
       "        text-align: right;\n",
       "    }\n",
       "</style>\n",
       "<table border=\"1\" class=\"dataframe\">\n",
       "  <thead>\n",
       "    <tr style=\"text-align: right;\">\n",
       "      <th>Кількість пропусків за місяць</th>\n",
       "      <th>Студенти КПІ</th>\n",
       "      <th>Студенти НАУ</th>\n",
       "    </tr>\n",
       "  </thead>\n",
       "  <tbody>\n",
       "    <tr>\n",
       "      <td>1</td>\n",
       "      <td>29</td>\n",
       "      <td>14</td>\n",
       "    </tr>\n",
       "    <tr>\n",
       "      <td>2</td>\n",
       "      <td>23</td>\n",
       "      <td>18</td>\n",
       "    </tr>\n",
       "    <tr>\n",
       "      <td>3</td>\n",
       "      <td>2</td>\n",
       "      <td>2</td>\n",
       "    </tr>\n",
       "    <tr>\n",
       "      <td>4</td>\n",
       "      <td>13</td>\n",
       "      <td>23</td>\n",
       "    </tr>\n",
       "    <tr>\n",
       "      <td>5</td>\n",
       "      <td>1</td>\n",
       "      <td>29</td>\n",
       "    </tr>\n",
       "    <tr>\n",
       "      <td>6</td>\n",
       "      <td>22</td>\n",
       "      <td>11</td>\n",
       "    </tr>\n",
       "    <tr>\n",
       "      <td>7</td>\n",
       "      <td>25</td>\n",
       "      <td>1</td>\n",
       "    </tr>\n",
       "    <tr>\n",
       "      <td>8</td>\n",
       "      <td>1</td>\n",
       "      <td>10</td>\n",
       "    </tr>\n",
       "    <tr>\n",
       "      <td>9</td>\n",
       "      <td>1</td>\n",
       "      <td>9</td>\n",
       "    </tr>\n",
       "    <tr>\n",
       "      <td>10</td>\n",
       "      <td>23</td>\n",
       "      <td>15</td>\n",
       "    </tr>\n",
       "    <tr>\n",
       "      <td>11</td>\n",
       "      <td>23</td>\n",
       "      <td>8</td>\n",
       "    </tr>\n",
       "    <tr>\n",
       "      <td>12</td>\n",
       "      <td>9</td>\n",
       "      <td>17</td>\n",
       "    </tr>\n",
       "    <tr>\n",
       "      <td>13</td>\n",
       "      <td>15</td>\n",
       "      <td>14</td>\n",
       "    </tr>\n",
       "    <tr>\n",
       "      <td>14</td>\n",
       "      <td>11</td>\n",
       "      <td>12</td>\n",
       "    </tr>\n",
       "    <tr>\n",
       "      <td>15</td>\n",
       "      <td>22</td>\n",
       "      <td>5</td>\n",
       "    </tr>\n",
       "    <tr>\n",
       "      <td>16</td>\n",
       "      <td>23</td>\n",
       "      <td>12</td>\n",
       "    </tr>\n",
       "    <tr>\n",
       "      <td>17</td>\n",
       "      <td>8</td>\n",
       "      <td>15</td>\n",
       "    </tr>\n",
       "    <tr>\n",
       "      <td>18</td>\n",
       "      <td>7</td>\n",
       "      <td>2</td>\n",
       "    </tr>\n",
       "    <tr>\n",
       "      <td>19</td>\n",
       "      <td>20</td>\n",
       "      <td>10</td>\n",
       "    </tr>\n",
       "    <tr>\n",
       "      <td>20</td>\n",
       "      <td>28</td>\n",
       "      <td>12</td>\n",
       "    </tr>\n",
       "    <tr>\n",
       "      <td>21</td>\n",
       "      <td>22</td>\n",
       "      <td>12</td>\n",
       "    </tr>\n",
       "    <tr>\n",
       "      <td>22</td>\n",
       "      <td>7</td>\n",
       "      <td>13</td>\n",
       "    </tr>\n",
       "    <tr>\n",
       "      <td>23</td>\n",
       "      <td>7</td>\n",
       "      <td>6</td>\n",
       "    </tr>\n",
       "    <tr>\n",
       "      <td>24</td>\n",
       "      <td>6</td>\n",
       "      <td>17</td>\n",
       "    </tr>\n",
       "    <tr>\n",
       "      <td>25</td>\n",
       "      <td>15</td>\n",
       "      <td>7</td>\n",
       "    </tr>\n",
       "    <tr>\n",
       "      <td>26</td>\n",
       "      <td>28</td>\n",
       "      <td>19</td>\n",
       "    </tr>\n",
       "    <tr>\n",
       "      <td>27</td>\n",
       "      <td>28</td>\n",
       "      <td>19</td>\n",
       "    </tr>\n",
       "    <tr>\n",
       "      <td>28</td>\n",
       "      <td>8</td>\n",
       "      <td>5</td>\n",
       "    </tr>\n",
       "    <tr>\n",
       "      <td>29</td>\n",
       "      <td>29</td>\n",
       "      <td>12</td>\n",
       "    </tr>\n",
       "    <tr>\n",
       "      <td>30</td>\n",
       "      <td>28</td>\n",
       "      <td>11</td>\n",
       "    </tr>\n",
       "  </tbody>\n",
       "</table>\n",
       "</div>"
      ],
      "text/plain": [
       "Кількість пропусків за місяць  Студенти КПІ  Студенти НАУ\n",
       "1                                        29            14\n",
       "2                                        23            18\n",
       "3                                         2             2\n",
       "4                                        13            23\n",
       "5                                         1            29\n",
       "6                                        22            11\n",
       "7                                        25             1\n",
       "8                                         1            10\n",
       "9                                         1             9\n",
       "10                                       23            15\n",
       "11                                       23             8\n",
       "12                                        9            17\n",
       "13                                       15            14\n",
       "14                                       11            12\n",
       "15                                       22             5\n",
       "16                                       23            12\n",
       "17                                        8            15\n",
       "18                                        7             2\n",
       "19                                       20            10\n",
       "20                                       28            12\n",
       "21                                       22            12\n",
       "22                                        7            13\n",
       "23                                        7             6\n",
       "24                                        6            17\n",
       "25                                       15             7\n",
       "26                                       28            19\n",
       "27                                       28            19\n",
       "28                                        8             5\n",
       "29                                       29            12\n",
       "30                                       28            11"
      ]
     },
     "execution_count": 7,
     "metadata": {},
     "output_type": "execute_result"
    }
   ],
   "source": [
    "Grupa1 =  randint(1, 30,30)\n",
    "Grupa2 =  randint(1, 30, 30)\n",
    "table = pd.DataFrame({'Студенти КПІ':Grupa1,\n",
    "                            'Студенти НАУ':Grupa2},\n",
    "                            index=np.arange(1, len(Grupa1) + 1))\n",
    "table.columns.name = '№'\n",
    "table.columns.name = 'Кількість пропусків за місяць'\n",
    "table"
   ]
  },
  {
   "cell_type": "markdown",
   "metadata": {},
   "source": [
    "Побудувати графік, що відображає розкид даних в групах"
   ]
  },
  {
   "cell_type": "code",
   "execution_count": 22,
   "metadata": {},
   "outputs": [
    {
     "data": {
      "text/plain": [
       "[]"
      ]
     },
     "execution_count": 22,
     "metadata": {},
     "output_type": "execute_result"
    },
    {
     "data": {
      "image/png": "[encoded data removed]",
      "text/plain": [
       "<Figure size 432x288 with 1 Axes>"
      ]
     },
     "metadata": {
      "needs_background": "light"
     },
     "output_type": "display_data"
    }
   ],
   "source": [
    "sns.boxplot(data=table, orient='h',palette='coolwarm').set()"
   ]
  },
  {
   "cell_type": "markdown",
   "metadata": {},
   "source": [
    "Написати функцію для оцінки вімінностей дисперсій між групами за критерієм Лівеня. Функція має повертати значення тесту та результат оцінки рівності дисперсій (significant або not significant)"
   ]
  },
  {
   "cell_type": "code",
   "execution_count": 23,
   "metadata": {},
   "outputs": [],
   "source": [
    "def duspersia(arr):\n",
    "    return np.var(arr)\n",
    "\n",
    "def Livena(team1, team2):\n",
    "    d1 = duspersia(team1)\n",
    "    d2 = duspersia(team2)\n",
    "    if(d1 >= d2):\n",
    "        F=d1/d2\n",
    "    else:\n",
    "        F=d2/d1 \n",
    "    print(\"Отримане значення критерію Лівеня: F = \", F)\n",
    "    \n",
    "    df1=len(team1)-1\n",
    "    df2=len(team2)-1\n",
    "\n",
    "    import xlrd, xlwt\n",
    "    rb = xlrd.open_workbook('Таблиця критичних значень для критерію Лівеня.xlsx')\n",
    "    sheet = rb.sheet_by_index(0)\n",
    "    if(df1<=10 and df2<=20):\n",
    "        F_tabl = sheet.row_values(df2 + 1)[df1]\n",
    "    \n",
    "    if(df1==15 and df2<=20):\n",
    "        F_tabl = sheet.row_values(df2 + 1)[11]\n",
    "    if(df1>15 and df2>20):\n",
    "        F_tabl = sheet.row_values(22)[12]    \n",
    "    \n",
    "    print(\"Критичне значення критерію: F_кр = \", F_tabl)\n",
    "    if (F_tabl < F):\n",
    "        result = \"significant\" \n",
    "    else:\n",
    "        result = \"not significant\"  \n",
    "    print(\"Результат оцінки значимості зв'зку: \",result)\n",
    "    return result"
   ]
  },
  {
   "cell_type": "code",
   "execution_count": 24,
   "metadata": {},
   "outputs": [
    {
     "name": "stdout",
     "output_type": "stream",
     "text": [
      "Отримане значення критерію Лівеня: F =  2.4132629107981223\n",
      "Критичне значення критерію: F_кр =  1.45\n",
      "Результат оцінки значимості зв'зку:  significant\n"
     ]
    },
    {
     "data": {
      "text/plain": [
       "'significant'"
      ]
     },
     "execution_count": 24,
     "metadata": {},
     "output_type": "execute_result"
    }
   ],
   "source": [
    "Livena(Grupa1,Grupa2)"
   ]
  },
  {
   "cell_type": "markdown",
   "metadata": {},
   "source": [
    "Написати функцію для визначення відмінності між групами за критерієм Стьюдента в залежності від рівності/відмінності дисперсій. Функція має повертати значення критерію Стьюдента,значення ступеня свободи та результат оцінки значимості звязку (significant або not significant)"
   ]
  },
  {
   "cell_type": "code",
   "execution_count": 25,
   "metadata": {},
   "outputs": [],
   "source": [
    "def Sum_count(arr):\n",
    "    sum=0\n",
    "    for i in range(len(arr)):\n",
    "        sum += arr[i]\n",
    "    return sum/len(arr)    \n",
    "\n",
    "def Standatne_vid(arr):\n",
    "    return np.std(arr)\n",
    "\n",
    "def Student(result, team_1, team_2):\n",
    "    r1 = \"not significant\"\n",
    "    \n",
    "    sum1 = Sum_count(team_1)\n",
    "    sum2 = Sum_count(team_2)\n",
    "    \n",
    "    N1 = len(team_1)\n",
    "    N2 = len(team_2)\n",
    "    \n",
    "    q1 = Standatne_vid(team_1)\n",
    "    q2 = Standatne_vid(team_2)\n",
    "\n",
    "    q2_1 = q1**2\n",
    "    q2_2 = q2**2\n",
    "    \n",
    "    \n",
    "    if(r1 == result):\n",
    "        t = (abs(sum1 - sum2))/(math.sqrt((q2_1/N1)+((q2_2)/N2)))\n",
    "    else:\n",
    "        t = (abs(sum1 - sum2))/(math.sqrt(((((N1-1)*q2_1) + ((N2-1)*q2_2))*((1/N1)+(1/N2)))/(N1 + N2 - 2)))\n",
    "    print(\"--------------------------------------------------------\")     \n",
    "    print(\"Отримане значення критерію Стьюдента: t = \", t)\n",
    "    \n",
    "    df = N1 + N2 - 2\n",
    "    print(\"Ступінь свободи: df = \", df)\n",
    "    \n",
    "    import xlrd, xlwt\n",
    "    rb = xlrd.open_workbook('Таблиця критичних значень для критерію Стьюдента.xlsx')\n",
    "    sheet = rb.sheet_by_index(0)\n",
    "    t_tabl = sheet.row_values(df)[1]\n",
    "    print(\"Критичне значення критерію Стюдента tкр = \", t_tabl)\n",
    "    \n",
    "    if(t>t_tabl):\n",
    "        result_2 = \"significant\" \n",
    "    else:\n",
    "        result_2 = \"not significant\" \n",
    "    print(\"Результат оцінки значимості зв'зку: \", result_2)"
   ]
  },
  {
   "cell_type": "code",
   "execution_count": 26,
   "metadata": {},
   "outputs": [
    {
     "name": "stdout",
     "output_type": "stream",
     "text": [
      "Отримане значення критерію Лівеня: F =  2.4132629107981223\n",
      "Критичне значення критерію: F_кр =  1.45\n",
      "Результат оцінки значимості зв'зку:  significant\n",
      "--------------------------------------------------------\n",
      "Отримане значення критерію Стьюдента: t =  1.9913502304150303\n",
      "Ступінь свободи: df =  58\n",
      "Критичне значення критерію Стюдента tкр =  2.002\n",
      "Результат оцінки значимості зв'зку:  not significant\n"
     ]
    }
   ],
   "source": [
    "Student(Livena(Grupa1,Grupa2),Grupa1, Grupa2 )"
   ]
  },
  {
   "cell_type": "markdown",
   "metadata": {},
   "source": [
    "\n",
    "Висновки:\n",
    "\n",
    "1.В результаті перевірки даних на рівність дисперсії за тестом Лівеня було, отримано результат Fкр < F, що означає що ми відкидаємо нульову гіпотезу і вважаємо дисперсії різними(тобто приймаємо альтернативну).\n",
    "\n",
    "2.В результаті перевірки відмінності між групами за допомогою критерію Стюдента для незалежних вибірок, було отримано результат tкр > t, що свідчить про те, що ми приймаємо нульову гіпотезу (відхиляємо альтернативу) ,тобто робимо висновок про статичну рівність дисперсій."
   ]
  }
 ],
 "metadata": {
  "kernelspec": {
   "display_name": "Python 3",
   "language": "python",
   "name": "python3"
  },
  "language_info": {
   "codemirror_mode": {
    "name": "ipython",
    "version": 3
   },
   "file_extension": ".py",
   "mimetype": "text/x-python",
   "name": "python",
   "nbconvert_exporter": "python",
   "pygments_lexer": "ipython3",
   "version": "3.7.4"
  }
 },
 "nbformat": 4,
 "nbformat_minor": 2
}
